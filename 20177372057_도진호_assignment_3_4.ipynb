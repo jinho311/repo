{
  "nbformat": 4,
  "nbformat_minor": 0,
  "metadata": {
    "colab": {
      "provenance": []
    },
    "kernelspec": {
      "name": "python3",
      "display_name": "Python 3"
    },
    "language_info": {
      "name": "python"
    }
  },
  "cells": [
    {
      "cell_type": "markdown",
      "source": [
        "## 4 실습 (Assignment 3)\n",
        "* 행렬 방정식 풀기\n",
        "  + 다음 행렬 방정식을 'Pseudo inverse matrix'를 이용해 풀어보자\n",
        "  + $A^TA$의 역행렬이 존재한다고 가정  \n",
        "$Ax=B$  \n",
        "$A=\\begin{bmatrix}\n",
        "0 & 1 \\\\\n",
        "1 & 1 \\\\\n",
        "2 & 1 \\\\\n",
        "3 & 1 \\\\\n",
        "\\end{bmatrix}$  \n",
        "$B=\\begin{bmatrix}\n",
        "-1\\\\\n",
        "0.2\\\\\n",
        "0.9\\\\\n",
        "2.1\\\\\n",
        "\\end{bmatrix}$"
      ],
      "metadata": {
        "id": "bCTORSomQju0"
      }
    },
    {
      "cell_type": "code",
      "source": [
        "import numpy as np\n",
        "import numpy.linalg as lin\n",
        "\n",
        "# A 행렬 및 B 행렬 정의\n",
        "# A_mat = A 행렬 (4x2), B_mat = B 행렬 (4x1)\n",
        "A_mat=np.array([[0,1],[1,1],[2,1],[3,1]])\n",
        "B_mat=np.array([[-1],[0.2],[0.9],[2.1]])\n",
        "\n",
        "# A행렬이 정방행렬이 아니므로 유사역행렬을 계산\n",
        "inv_A_mat= lin.pinv(A_mat)\n",
        "\n",
        "# 유사 역행렬을 사용하여 x행렬 도출\n",
        "print(np.dot(inv_A_mat,B_mat))"
      ],
      "metadata": {
        "colab": {
          "base_uri": "https://localhost:8080/"
        },
        "id": "lo4qqCFfg5jq",
        "outputId": "aabdf48f-d02b-47b0-a6dd-f38785d12f41"
      },
      "execution_count": null,
      "outputs": [
        {
          "output_type": "stream",
          "name": "stdout",
          "text": [
            "[[ 1.  ]\n",
            " [-0.95]]\n"
          ]
        }
      ]
    },
    {
      "cell_type": "markdown",
      "source": [
        "# 4 실습  \n",
        "* 2x2 그래프 그리기  \n",
        "  * $y=x$  \n",
        "  * $y=x^2$  \n",
        "  * $y=sin(x)$\n",
        "  * $y=cos(x)$    "
      ],
      "metadata": {
        "id": "5v9JX6M9cUW-"
      }
    },
    {
      "cell_type": "code",
      "source": [
        "import numpy as np\n",
        "import matplotlib.pyplot as plt\n",
        "\n",
        "# subplot 간의 간격 조절 (제일 왼쪽 0.0, 제일 밑 0.0, 제일 우측 1.0, 제일 위 1.0, 그래프 간 좌우 간격 1.0, 그래프 간 상하 간격 1.0 설정 및 제일 밑 줄로 입력) \n",
        "left=0.0\n",
        "bottom=0.0\n",
        "right=1.0\n",
        "top=1.0\n",
        "wspace=1.0\n",
        "hspace=1.0\n",
        "plt.subplots_adjust(left, bottom, right, top, wspace, hspace)\n",
        "\n",
        "# x와 y의 설정\n",
        "# x는 0부터 3파이까지 0.1 간격으로 생성\n",
        "# y=x, y=x^2, y=sin(x), y=cos(x) 설정\n",
        "x = np.arange(0, 3 * np.pi, 0.1)\n",
        "y_x = x\n",
        "y_xx = x*x\n",
        "y_sin = np.sin(x)\n",
        "y_cos = np.cos(x)\n",
        "\n",
        "# 플롯의 초기화\n",
        "plt.clf()\n",
        "# 세로로 두개, 가로로 두개 subplot 작성\n",
        "# 첫 번 째 plot 코드 (2x2 멀티 그래프의 첫 번째, y=x 그래프 설정, 제목, x축, y축 표시)\n",
        "plt.subplot(2,2,1)  \n",
        "plt.plot(x,y_x)  \n",
        "plt.title('$y=x$')  \n",
        "plt.xlabel('x axis')\n",
        "plt.ylabel('y axis')  \n",
        "# 두 번 째 plot 코드 (2x2 멀티 그래프의 두 번째, y=x 그래프 설정, 제목, x축, y축 표시)\n",
        "plt.subplot(2,2,2)  \n",
        "plt.plot(x,y_xx)  \n",
        "plt.title('y=x^2')  \n",
        "plt.xlabel('x axis')\n",
        "plt.ylabel('y axis')  \n",
        "# 세 번 째 plot 코드 (2x2 멀티 그래프의 세 번째, y=x 그래프 설정, 제목, x축, y축 표시)\n",
        "plt.subplot(2,2,3)  \n",
        "plt.plot(x,y_sin)  \n",
        "plt.title('y=sin(x)')  \n",
        "plt.xlabel('x axis')\n",
        "plt.ylabel('y axis')  \n",
        "# 네 번 째 plot 코드 (2x2 멀티 그래프의 네 번째, y=x 그래프 설정, 제목, x축, y축 표시)\n",
        "plt.subplot(2,2,4)  \n",
        "plt.plot(x,y_cos)  \n",
        "plt.title('y=cos(x)')  \n",
        "plt.xlabel('x axis')\n",
        "plt.ylabel('y axis')  \n",
        "\n",
        "# 멀티 그래프 플롯 표시\n",
        "plt.show()"
      ],
      "metadata": {
        "colab": {
          "base_uri": "https://localhost:8080/",
          "height": 366
        },
        "id": "H6EbWd2QdEJ9",
        "outputId": "25b6bf77-40cc-4264-dfbb-1cc9306cf82b"
      },
      "execution_count": null,
      "outputs": [
        {
          "output_type": "display_data",
          "data": {
            "text/plain": [
              "<Figure size 432x288 with 4 Axes>"
            ],
            "image/png": "[encoded data removed]"
          },
          "metadata": {
            "needs_background": "light"
          }
        }
      ]
    }
  ]
}