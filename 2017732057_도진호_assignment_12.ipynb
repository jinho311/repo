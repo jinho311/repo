{
  "nbformat": 4,
  "nbformat_minor": 0,
  "metadata": {
    "colab": {
      "provenance": [],
      "collapsed_sections": []
    },
    "kernelspec": {
      "name": "python3",
      "display_name": "Python 3"
    },
    "language_info": {
      "name": "python"
    },
    "accelerator": "GPU",
    "gpuClass": "standard"
  },
  "cells": [
    {
      "cell_type": "markdown",
      "source": [
        "## 3 Assignment\n",
        "## 다음 3개의 문장을 batch data로 활용해 RNN을 학습해보자 (아래의 미완성 코드, 위 실습코드, 실행결과를 참고)\n",
        "\n",
        "* 'howareyou'\n",
        "* 'whats up?'\n",
        "* 'iamgreat.'"
      ],
      "metadata": {
        "id": "GHFiR1QN8_mb"
      }
    },
    {
      "cell_type": "code",
      "execution_count": 71,
      "metadata": {
        "id": "oQVXuOrQ8-4_",
        "colab": {
          "base_uri": "https://localhost:8080/"
        },
        "outputId": "629fe5fb-b491-473b-dd69-a8711dcb6c68"
      },
      "outputs": [
        {
          "output_type": "execute_result",
          "data": {
            "text/plain": [
              "<torch._C.Generator at 0x7f9221a5cd50>"
            ]
          },
          "metadata": {},
          "execution_count": 71
        }
      ],
      "source": [
        "# import\n",
        "import numpy as np\n",
        "import torch\n",
        "import torch.nn as nn\n",
        "import torch.optim as optim\n",
        "\n",
        "# for reproducibility\n",
        "torch.manual_seed(100)"
      ]
    },
    {
      "cell_type": "code",
      "source": [
        "# Dictionary. 샘플 문장에 쓰인 글자 수가 모두 9로 같다.\n",
        "sample_sentences = ['howareyou', 'whats up?', 'iamgreat.']\n",
        "char_set = list(set(''.join(sample_sentences)))\n",
        "dic = {c: i for i, c in enumerate(char_set)}\n",
        "\n",
        "print(sample_sentences[0])\n",
        "print(len(sample_sentences[0]))\n",
        "print(sample_sentences[1])\n",
        "print(len(sample_sentences[1]))\n",
        "print(sample_sentences[2])\n",
        "print(len(sample_sentences[2]))"
      ],
      "metadata": {
        "id": "DD83LjAg30wj",
        "colab": {
          "base_uri": "https://localhost:8080/"
        },
        "outputId": "79e2858e-6c09-4a17-a279-a200da039eca"
      },
      "execution_count": 72,
      "outputs": [
        {
          "output_type": "stream",
          "name": "stdout",
          "text": [
            "howareyou\n",
            "9\n",
            "whats up?\n",
            "9\n",
            "iamgreat.\n",
            "9\n"
          ]
        }
      ]
    },
    {
      "cell_type": "code",
      "source": [
        "# 샘플 문장의 수는 세개, 16개의 문자가 char_set에 입력되며, 그 중에는 ' '도 포함된다.\n",
        "print(sample_sentences)\n",
        "print(char_set)\n",
        "print(dic)"
      ],
      "metadata": {
        "colab": {
          "base_uri": "https://localhost:8080/"
        },
        "id": "dEjC-w7P3-Yv",
        "outputId": "17b0ec34-9a4b-44e1-c7f6-9c5f9ec54c7a"
      },
      "execution_count": 73,
      "outputs": [
        {
          "output_type": "stream",
          "name": "stdout",
          "text": [
            "['howareyou', 'whats up?', 'iamgreat.']\n",
            "['t', 's', 'i', 'e', 'r', ' ', 'h', 'm', 'a', 'u', '.', 'p', 'o', 'y', '?', 'w', 'g']\n",
            "{'t': 0, 's': 1, 'i': 2, 'e': 3, 'r': 4, ' ': 5, 'h': 6, 'm': 7, 'a': 8, 'u': 9, '.': 10, 'p': 11, 'o': 12, 'y': 13, '?': 14, 'w': 15, 'g': 16}\n"
          ]
        }
      ]
    },
    {
      "cell_type": "code",
      "source": [
        "# Parameters. Input으로 17개의 글자가 들어감으로 17개 ,hidden size = Output Size이기 때문에 글자의 갯수인 17개가 맞다.\n",
        "# 결국 sample_sentences의 문자들이 인풋과 아웃풋의 후보가 되므로, sample_sentences에 쓰인 문자의 갯수인 len(dic)이 결국 인풋과 아웃풋의 사이즈가 되는 것이다.\n",
        "dic_size = len(dic)\n",
        "input_size = dic_size\n",
        "hidden_size = dic_size"
      ],
      "metadata": {
        "id": "xf5YXlsP4RbN"
      },
      "execution_count": 74,
      "outputs": []
    },
    {
      "cell_type": "code",
      "source": [
        "# 딕셔너리 형으로 정의된 dic의 크기. dic은 char_set을 key로 사용하고, 숫자는 char_set의 순서에 따라 매긴 것이므로 dic과 char_set의 크기는 같다.\n",
        "print(dic_size)\n",
        "print(len(char_set))"
      ],
      "metadata": {
        "colab": {
          "base_uri": "https://localhost:8080/"
        },
        "id": "wg42VLVM4Utr",
        "outputId": "6327e995-39a5-479e-ee05-a6ed8a3c3818"
      },
      "execution_count": 75,
      "outputs": [
        {
          "output_type": "stream",
          "name": "stdout",
          "text": [
            "17\n",
            "17\n"
          ]
        }
      ]
    },
    {
      "cell_type": "code",
      "source": [
        "# Dataset setting. 인풋 batch, 타겟 batch \n",
        "input_batch = []\n",
        "target_batch = []"
      ],
      "metadata": {
        "id": "b25MQrTB4fZq"
      },
      "execution_count": 76,
      "outputs": []
    },
    {
      "cell_type": "code",
      "source": [
        "# 각 sentence를 학습시킬 때 for문을 사용하여 순차적으로 howareyou부터 iamgreat까지 순차적으로 학습한다.\n",
        "# 학습시킬 sentence의 차례에는 x_data에 sentence, x_one_hot에 원핫코드, y_data에 정답을 입력한다.\n",
        "# 따라서 모델의 input으로 들어갈 수 있는 글자는 sentence에 포함되어있는 글자이다.\n",
        "# 또한 모델의 output으로 나올 수 있는 글자도 sentence에 포함되어있는 글자가 되며 이는 sentence의 두번째 글자 부터이다.\n",
        "for sentence in sample_sentences:\n",
        "  x_data = [dic[c] for c in sample_sentences[sample_sentences.index(sentence)][:-1]]\n",
        "  x_one_hot = [np.eye(dic_size)[x] for x in x_data]\n",
        "  y_data = [dic[c] for c in sample_sentences[sample_sentences.index(sentence)][1:]]\n",
        "\n",
        "# x_one_hot, y_data를 batch(List형)에 넣은 후 Tensor로 변환하는 과정. 모델의 학습은 Tensor를 통해 이루어진다.\n",
        "  input_batch.append(x_one_hot)\n",
        "  target_batch.append(y_data)\n",
        "\n",
        "  IpTs = torch.FloatTensor(input_batch)\n",
        "  tgTs = torch.LongTensor(target_batch)\n",
        "\n",
        "  # Model. 강의 자료에 있는 값이 0.05, 500으로 고정. 더 원활한 학습을 위해서는 파라미터의 수정이 필요하다.\n",
        "  learning_rate = 0.05\n",
        "  training_epochs = 500\n",
        "  model = nn.RNN(input_size, hidden_size, batch_first=True)\n",
        "\n",
        "  # define cost/loss & optimizer (분류 과정을 거치므로 CrossEntropyLoss 함수의 도움을 받을 수 있다. Adam은 SGD방식과 유사하지만 더 진화한 알고리즘을 가진다.)\n",
        "  criterion = nn.CrossEntropyLoss()    # Softmax\n",
        "  optimizer = optim.Adam(model.parameters(), lr=learning_rate)\n",
        "\n",
        "  # train\n",
        "  for epoch in range(training_epochs):\n",
        "    optimizer.zero_grad()\n",
        "    outputs, _status = model(IpTs)\n",
        "    loss = criterion(outputs.reshape(-1, dic_size), tgTs.reshape(-1))\n",
        "    loss.backward()\n",
        "    optimizer.step()\n",
        "    if epoch %100 == 99:\n",
        "      result = outputs.data.numpy().argmax(axis=2)\n",
        "for sentence in result:\n",
        "        print(''.join([char_set[c] for c in np.squeeze(sentence)]))\n"
      ],
      "metadata": {
        "colab": {
          "base_uri": "https://localhost:8080/"
        },
        "id": "Xi-KtYgw4n4d",
        "outputId": "0ccd34a4-022a-42cd-cb72-e1c900c9a34a"
      },
      "execution_count": 77,
      "outputs": [
        {
          "output_type": "stream",
          "name": "stdout",
          "text": [
            "owareyou\n",
            "hows up?\n",
            "amgreat.\n"
          ]
        }
      ]
    }
  ]
}