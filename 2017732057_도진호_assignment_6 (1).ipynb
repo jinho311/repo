{
  "nbformat": 4,
  "nbformat_minor": 0,
  "metadata": {
    "colab": {
      "provenance": [],
      "collapsed_sections": []
    },
    "kernelspec": {
      "name": "python3",
      "display_name": "Python 3"
    },
    "language_info": {
      "name": "python"
    },
    "accelerator": "GPU"
  },
  "cells": [
    {
      "cell_type": "markdown",
      "source": [
        "## 4 실습 (Assignment 6)  \n",
        "* 행렬 방정식 풀기 (단, Pytorch만을 사용한다)\n",
        "  + 다음 행렬 방정식을 'Pseudo inverse matrix'를 이용해 풀어보자\n",
        "  + $A^TA$의 역행렬이 존재한다고 가정"
      ],
      "metadata": {
        "id": "dDhUrmdvtY48"
      }
    },
    {
      "cell_type": "code",
      "execution_count": null,
      "metadata": {
        "id": "JwWovfIptSQ0"
      },
      "outputs": [],
      "source": [
        "import numpy as np\n",
        "import torch"
      ]
    },
    {
      "cell_type": "code",
      "source": [
        "# 2x4 크기의TensorA 선언\n",
        "tsA = torch.FloatTensor([[0, 1],\n",
        "                            [1, 1],\n",
        "                            [2, 1],\n",
        "                            [3, 1]])\n",
        "# 1x4 크기의 TensorB 선언\n",
        "tsB = torch.FloatTensor([[-1],\n",
        "                            [0.2],\n",
        "                            [0.9],\n",
        "                            [2.1]])\n",
        "# tensorA, tensorB 찍어보기 및 transpose 코드 동작 확인\n",
        "print(tsA)\n",
        "print(tsB)\n",
        "print(tsA.T)"
      ],
      "metadata": {
        "colab": {
          "base_uri": "https://localhost:8080/"
        },
        "id": "P04n4MwxvFku",
        "outputId": "ca14f0aa-a02a-4aae-c88b-2b190f7c0163"
      },
      "execution_count": null,
      "outputs": [
        {
          "output_type": "stream",
          "name": "stdout",
          "text": [
            "tensor([[0., 1.],\n",
            "        [1., 1.],\n",
            "        [2., 1.],\n",
            "        [3., 1.]])\n",
            "tensor([[-1.0000],\n",
            "        [ 0.2000],\n",
            "        [ 0.9000],\n",
            "        [ 2.1000]])\n",
            "tensor([[0., 1., 2., 3.],\n",
            "        [1., 1., 1., 1.]])\n"
          ]
        }
      ]
    },
    {
      "cell_type": "code",
      "source": [
        "# x구하기 위한 계산 코드\n",
        "\n",
        "# y는 A^T*A 의 역행렬. 문제에서는 A^T*A의 역행렬이 존재한다고 가정했다.\n",
        "y = torch.inverse(tsA.T.matmul(tsA))\n",
        "\n",
        "# z=A^T*B\n",
        "z = tsA.T.matmul(tsB)\n",
        "\n",
        "# 최종연산. A^T*A의 역행렬과 A^T*B의 곱연산 \n",
        "x =  y.matmul(z)\n",
        "\n",
        "# 찍어보기\n",
        "print(x)\n",
        "print(tsA.T.matmul(tsA))\n",
        "print(torch.inverse(tsA.T.matmul(tsA)))"
      ],
      "metadata": {
        "id": "hCP8P0xyyUVi",
        "colab": {
          "base_uri": "https://localhost:8080/"
        },
        "outputId": "d7c7b96e-d0da-4b80-c911-29e38f1e1565"
      },
      "execution_count": null,
      "outputs": [
        {
          "output_type": "stream",
          "name": "stdout",
          "text": [
            "tensor([[ 1.0000],\n",
            "        [-0.9500]])\n",
            "tensor([[14.,  6.],\n",
            "        [ 6.,  4.]])\n",
            "tensor([[ 0.2000, -0.3000],\n",
            "        [-0.3000,  0.7000]])\n"
          ]
        }
      ]
    },
    {
      "cell_type": "code",
      "source": [
        "# 유사역행렬 코드를 사용해 교차 확인\n",
        "\n",
        "# tensorA의 유사역행렬 구하기\n",
        "k = torch.pinverse(tsA)\n",
        "\n",
        "# tensorA의 유사역행렬과 tensorB 의 곱으로 최종연산\n",
        "x = k.matmul(tsB)\n",
        "\n",
        "# 정답 체크\n",
        "print(x)"
      ],
      "metadata": {
        "colab": {
          "base_uri": "https://localhost:8080/"
        },
        "id": "ELLlnWFUh3fC",
        "outputId": "2faac333-a987-4ac0-bfdc-75d52a2e5321"
      },
      "execution_count": null,
      "outputs": [
        {
          "output_type": "stream",
          "name": "stdout",
          "text": [
            "tensor([[ 1.0000],\n",
            "        [-0.9500]])\n"
          ]
        }
      ]
    }
  ]
}