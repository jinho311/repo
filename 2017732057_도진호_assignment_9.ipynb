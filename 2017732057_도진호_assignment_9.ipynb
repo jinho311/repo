{
  "nbformat": 4,
  "nbformat_minor": 0,
  "metadata": {
    "colab": {
      "provenance": [],
      "collapsed_sections": []
    },
    "kernelspec": {
      "name": "python3",
      "display_name": "Python 3"
    },
    "language_info": {
      "name": "python"
    }
  },
  "cells": [
    {
      "cell_type": "markdown",
      "source": [
        "# 3 Assignment  \n",
        "  * Data 파일을 이용한 Multinomial Classification  \n",
        "    * data_multinomial_classification.csv을 이용해 학습한다\n",
        "      * 16개의 input, 1개의 output\n",
        "      \\begin{bmatrix}x_1,\\ldots,x_{16},y\\end{bmatrix}  \n",
        "  * Accuracy 95% 이상을 달성한다"
      ],
      "metadata": {
        "id": "gw2fis67j6KF"
      }
    },
    {
      "cell_type": "code",
      "execution_count": null,
      "metadata": {
        "id": "YL96FBmljyUN"
      },
      "outputs": [],
      "source": [
        "#imports\n",
        "import numpy as np\n",
        "import torch\n",
        "import torch.nn as nn\n",
        "import torch.nn.functional as func\n",
        "import torch.optim as opt"
      ]
    },
    {
      "cell_type": "code",
      "source": [
        "from google.colab import drive\n",
        "drive.mount('/content/drive')"
      ],
      "metadata": {
        "colab": {
          "base_uri": "https://localhost:8080/"
        },
        "id": "i8zL-JF_lgI6",
        "outputId": "1511fecc-e930-4db2-acdd-8644cbfb5639"
      },
      "execution_count": null,
      "outputs": [
        {
          "output_type": "stream",
          "name": "stdout",
          "text": [
            "Drive already mounted at /content/drive; to attempt to forcibly remount, call drive.mount(\"/content/drive\", force_remount=True).\n"
          ]
        }
      ]
    },
    {
      "cell_type": "code",
      "source": [
        "# Seed 고정\n",
        "torch.manual_seed(1)"
      ],
      "metadata": {
        "colab": {
          "base_uri": "https://localhost:8080/"
        },
        "id": "RZ5D4QuCli-E",
        "outputId": "92ecc5e5-74c3-4df8-bc67-09591bdf5a02"
      },
      "execution_count": null,
      "outputs": [
        {
          "output_type": "execute_result",
          "data": {
            "text/plain": [
              "<torch._C.Generator at 0x7f1598205930>"
            ]
          },
          "metadata": {},
          "execution_count": 4
        }
      ]
    },
    {
      "cell_type": "code",
      "source": [
        "#dataset 불러오기 (구글 드라이브 사용, Github에 올라온 data_multinomial_classification.csv 파일 활용)\n",
        "dataset = np.loadtxt(\n",
        "    '/content/drive/MyDrive/Colab Notebooks/data_multinomial_classification.csv', \n",
        "    delimiter=',', \n",
        "    dtype=np.float32)"
      ],
      "metadata": {
        "id": "W31AnBzSlm_B"
      },
      "execution_count": null,
      "outputs": []
    },
    {
      "cell_type": "code",
      "source": [
        "# Dataset의 순서를 random으로 섞기\n",
        "#np.random.shuffle(dataset)\n",
        "# 이번 과제에서는 Tensor의 Manipulation이 사용되기 때문에 Tensor의 검증을 위해서 Data를 shuffle하지 않기로함"
      ],
      "metadata": {
        "id": "yhATAPHalu92"
      },
      "execution_count": null,
      "outputs": []
    },
    {
      "cell_type": "code",
      "source": [
        "# torch tensor로 변환 (Input은 16개,Output은 1개이며 7개의 클래스를 가진다. 각 data의 마지막 줄이 Output이 되게 하였다.)\n",
        "x_train = torch.FloatTensor(dataset[:,:-1])\n",
        "y_train = torch.LongTensor(dataset[:,[-1]])"
      ],
      "metadata": {
        "id": "xVn8z_ZMlw5o"
      },
      "execution_count": null,
      "outputs": []
    },
    {
      "cell_type": "code",
      "source": [
        "# x_train Tensor 찍어보기. x_train은 별다른 변형 없이 바로 입력하였다. \n",
        "print(x_train)\n",
        "print(x_train.shape)\n",
        "# y_traion Tensor 찍어보기. y_train은 Cross Entrophy 식에 대입할 때 1차원의 행 형식이므로 reshape 후에 squeeze를 사용하여 입력 형식을 맞추어주었다.\n",
        "z = y_train.reshape(1, -1)\n",
        "k=z.squeeze()\n",
        "print(k)\n",
        "print(k.shape)"
      ],
      "metadata": {
        "colab": {
          "base_uri": "https://localhost:8080/"
        },
        "id": "_tmyndQEmwe1",
        "outputId": "d3ff57dc-4430-4341-bd34-27725870426d"
      },
      "execution_count": null,
      "outputs": [
        {
          "output_type": "stream",
          "name": "stdout",
          "text": [
            "tensor([[1., 0., 0.,  ..., 0., 0., 1.],\n",
            "        [1., 0., 0.,  ..., 1., 0., 1.],\n",
            "        [0., 0., 1.,  ..., 1., 0., 0.],\n",
            "        ...,\n",
            "        [1., 0., 0.,  ..., 1., 0., 1.],\n",
            "        [0., 0., 1.,  ..., 0., 0., 0.],\n",
            "        [0., 1., 1.,  ..., 1., 0., 0.]])\n",
            "torch.Size([101, 16])\n",
            "tensor([0, 0, 3, 0, 0, 0, 0, 3, 3, 0, 0, 1, 3, 6, 6, 6, 1, 0, 3, 0, 1, 1, 0, 1,\n",
            "        5, 4, 4, 0, 0, 0, 5, 0, 0, 1, 3, 0, 0, 1, 3, 5, 5, 1, 5, 1, 0, 0, 6, 0,\n",
            "        0, 0, 0, 5, 4, 6, 0, 0, 1, 1, 1, 1, 3, 3, 2, 0, 0, 0, 0, 0, 0, 0, 0, 1,\n",
            "        6, 3, 0, 0, 2, 6, 1, 1, 2, 6, 3, 1, 0, 6, 3, 1, 5, 4, 2, 2, 3, 0, 0, 1,\n",
            "        0, 5, 0, 6, 1])\n",
            "torch.Size([101])\n"
          ]
        }
      ]
    },
    {
      "cell_type": "code",
      "source": [
        "# Model 초기화 (입력 dim, 출력 dim). Multinomial은 Cross Entrophy function에서 Softmax 와 1-Hot lable 함수가 포함되어 있어 우리는 Linear model만 설정해주면 된다.\n",
        "model = nn.Linear(16, 7)"
      ],
      "metadata": {
        "id": "6zGXuy6dmHN-"
      },
      "execution_count": null,
      "outputs": []
    },
    {
      "cell_type": "code",
      "source": [
        "# Optimizer 설정 (learning rate = 0.007로 설정), Stochastic gradient descent로 Cost를 줄여나간다.\n",
        "optimizer = opt.SGD(model.parameters(), lr=0.007)\n",
        "\n",
        "# 반복\n",
        "for epoch in range(10000):\n",
        "\n",
        "  # Cost 계산 / Cross_entrophy function (가정에의한값, 참값)\n",
        "  y_hypo = model(x_train)\n",
        "  cost = func.cross_entropy(y_hypo, k)\n",
        "\n",
        "  # cost를 이용해 model update\n",
        "  optimizer.zero_grad()\n",
        "  cost.backward()\n",
        "  optimizer.step()\n",
        "\n",
        "  # 999번 마다 중간결과 출력\n",
        "  if epoch % 1000 == 999:\n",
        "    correct_prediction = y_hypo.argmax(dim=1) == k\n",
        "    accuracy = correct_prediction.sum().item() / len(correct_prediction)\n",
        "    print('Epoch {:4d}/{} Cost: {:.6f} Accuracy {:2.2f}%'.format(\n",
        "            epoch, 10000, cost.item(), accuracy * 100,\n",
        "    ))"
      ],
      "metadata": {
        "colab": {
          "base_uri": "https://localhost:8080/"
        },
        "id": "e4TmAMDjmME2",
        "outputId": "f2e68159-98e5-450d-82da-08bd67d5e6a1"
      },
      "execution_count": null,
      "outputs": [
        {
          "output_type": "stream",
          "name": "stdout",
          "text": [
            "Epoch  999/10000 Cost: 0.590867 Accuracy 86.14%\n",
            "Epoch 1999/10000 Cost: 0.409965 Accuracy 89.11%\n",
            "Epoch 2999/10000 Cost: 0.324413 Accuracy 92.08%\n",
            "Epoch 3999/10000 Cost: 0.270722 Accuracy 94.06%\n",
            "Epoch 4999/10000 Cost: 0.233043 Accuracy 95.05%\n",
            "Epoch 5999/10000 Cost: 0.204909 Accuracy 95.05%\n",
            "Epoch 6999/10000 Cost: 0.183014 Accuracy 96.04%\n",
            "Epoch 7999/10000 Cost: 0.165446 Accuracy 98.02%\n",
            "Epoch 8999/10000 Cost: 0.151013 Accuracy 98.02%\n",
            "Epoch 9999/10000 Cost: 0.138928 Accuracy 99.01%\n"
          ]
        }
      ]
    }
  ]
}