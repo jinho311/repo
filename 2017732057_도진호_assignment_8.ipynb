{
  "nbformat": 4,
  "nbformat_minor": 0,
  "metadata": {
    "colab": {
      "provenance": [],
      "collapsed_sections": []
    },
    "kernelspec": {
      "name": "python3",
      "display_name": "Python 3"
    },
    "language_info": {
      "name": "python"
    }
  },
  "cells": [
    {
      "cell_type": "markdown",
      "source": [
        "# 3 Assignment\n",
        "  * Data 파일을 이용한 Logistic Regression\n",
        "    * data_logistic_regression.csv을 이용해 학습한다\n",
        "      *8개의 input, 1개의 output  \n",
        "      \\begin{bmatrix}x_1,\\ldots,x_8,y\\end{bmatrix}  \n",
        "      * Accuracy 75% 이상을 달성한다"
      ],
      "metadata": {
        "id": "rCz6xhoy967X"
      }
    },
    {
      "cell_type": "code",
      "execution_count": 1,
      "metadata": {
        "id": "Ev0d0BT396Hu"
      },
      "outputs": [],
      "source": [
        "#imports\n",
        "import numpy as np\n",
        "import torch\n",
        "import torch.nn as nn\n",
        "import torch.nn.functional as func\n",
        "import torch.optim as opt"
      ]
    },
    {
      "cell_type": "code",
      "source": [
        "from google.colab import drive\n",
        "drive.mount('/content/drive')"
      ],
      "metadata": {
        "colab": {
          "base_uri": "https://localhost:8080/"
        },
        "id": "MARgsWMoCqiu",
        "outputId": "e42d5eca-cd54-47b6-b2b9-34f53e204c50"
      },
      "execution_count": 3,
      "outputs": [
        {
          "output_type": "stream",
          "name": "stdout",
          "text": [
            "Mounted at /content/drive\n"
          ]
        }
      ]
    },
    {
      "cell_type": "code",
      "source": [
        "# Seed 고정\n",
        "torch.manual_seed(1)"
      ],
      "metadata": {
        "colab": {
          "base_uri": "https://localhost:8080/"
        },
        "id": "NbKVIezeCxmv",
        "outputId": "555bb67d-2944-4845-c8e2-7492bac2db52"
      },
      "execution_count": 4,
      "outputs": [
        {
          "output_type": "execute_result",
          "data": {
            "text/plain": [
              "<torch._C.Generator at 0x7f43f0f3b790>"
            ]
          },
          "metadata": {},
          "execution_count": 4
        }
      ]
    },
    {
      "cell_type": "code",
      "source": [
        "#dataset 불러오기 (구글 드라이브 사용)\n",
        "dataset = np.loadtxt(\n",
        "    '/content/drive/MyDrive/Colab Notebooks/data_logistic_regression.csv', \n",
        "    delimiter=',', \n",
        "    dtype=np.float32)"
      ],
      "metadata": {
        "id": "XVDvU0HAB6wJ"
      },
      "execution_count": 5,
      "outputs": []
    },
    {
      "cell_type": "code",
      "source": [
        "# Dataset의 순서를 random으로 섞기\n",
        "np.random.shuffle(dataset)"
      ],
      "metadata": {
        "id": "9wWDG5QOC36h"
      },
      "execution_count": 41,
      "outputs": []
    },
    {
      "cell_type": "code",
      "source": [
        "# torch tensor로 변환 (Input은 8개,Output은 1개이며 각 data의 마지막 줄이 Output이 되게 하였다.)\n",
        "x_train = torch.FloatTensor(dataset[:,:-1])\n",
        "y_train = torch.FloatTensor(dataset[:,[-1]])"
      ],
      "metadata": {
        "id": "_fIMQEagDIr7"
      },
      "execution_count": 42,
      "outputs": []
    },
    {
      "cell_type": "code",
      "source": [
        "# Logistic Regression Model 설계\n",
        "class Logistic(nn.Module):\n",
        "    def __init__(self, num_inputs, num_outputs):\n",
        "        super().__init__()\n",
        "        self.linear = nn.Linear(num_inputs, num_outputs)\n",
        "        self.sigmoid = nn.Sigmoid()\n",
        "\n",
        "    def forward(self, x):\n",
        "        return self.sigmoid(self.linear(x))"
      ],
      "metadata": {
        "id": "AUcY2a_EDLm2"
      },
      "execution_count": 43,
      "outputs": []
    },
    {
      "cell_type": "code",
      "source": [
        "# Model 초기화 (입력 dim, 출력 dim)\n",
        "model = Logistic(8, 1)"
      ],
      "metadata": {
        "id": "Celz1w0MDZG4"
      },
      "execution_count": 44,
      "outputs": []
    },
    {
      "cell_type": "code",
      "source": [
        "# Optimizer 설정 (learning rate = 2로 설정)\n",
        "optimizer = opt.SGD(model.parameters(), lr=2)"
      ],
      "metadata": {
        "id": "oh4uZLADDgIq"
      },
      "execution_count": 45,
      "outputs": []
    },
    {
      "cell_type": "code",
      "source": [
        "for epoch in range(1000):\n",
        "\n",
        "  # Cost 계산 / mse_loss(가정에의한값, 참값)\n",
        "  y_hypo = model(x_train)\n",
        "  cost = func.binary_cross_entropy(y_hypo, y_train)\n",
        "\n",
        "  # cost를 이용해 model update\n",
        "  optimizer.zero_grad()\n",
        "  cost.backward()\n",
        "  optimizer.step()\n",
        "\n",
        "  # 100번 마다 중간결과 출력(epoch=1000)\n",
        "  if epoch % 100 == 99:\n",
        "    prediction = y_hypo >= torch.FloatTensor([0.5])\n",
        "    correct_prediction = prediction.float() == y_train\n",
        "    accuracy = correct_prediction.sum().item() / len(correct_prediction)\n",
        "    print('Epoch {:4d}/{} Cost: {:.6f} Accuracy {:2.2f}%'.format(\n",
        "            epoch, 1000, cost.item(), accuracy * 100,\n",
        "    ))"
      ],
      "metadata": {
        "colab": {
          "base_uri": "https://localhost:8080/"
        },
        "id": "L-PgAbi_FOQE",
        "outputId": "d736a722-12a6-4d9d-b709-5529cd329b50"
      },
      "execution_count": 46,
      "outputs": [
        {
          "output_type": "stream",
          "name": "stdout",
          "text": [
            "Epoch   99/1000 Cost: 0.473565 Accuracy 76.81%\n",
            "Epoch  199/1000 Cost: 0.471981 Accuracy 76.81%\n",
            "Epoch  299/1000 Cost: 0.471741 Accuracy 76.81%\n",
            "Epoch  399/1000 Cost: 0.471687 Accuracy 76.94%\n",
            "Epoch  499/1000 Cost: 0.471675 Accuracy 76.94%\n",
            "Epoch  599/1000 Cost: 0.471672 Accuracy 76.94%\n",
            "Epoch  699/1000 Cost: 0.471671 Accuracy 76.94%\n",
            "Epoch  799/1000 Cost: 0.471671 Accuracy 76.94%\n",
            "Epoch  899/1000 Cost: 0.471671 Accuracy 76.94%\n",
            "Epoch  999/1000 Cost: 0.471671 Accuracy 76.94%\n"
          ]
        }
      ]
    }
  ]
}