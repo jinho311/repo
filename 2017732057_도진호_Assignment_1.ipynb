{
  "nbformat": 4,
  "nbformat_minor": 0,
  "metadata": {
    "colab": {
      "provenance": [],
      "collapsed_sections": []
    },
    "kernelspec": {
      "name": "python3",
      "display_name": "Python 3"
    },
    "language_info": {
      "name": "python"
    }
  },
  "cells": [
    {
      "cell_type": "markdown",
      "source": [
        "![kw](https://encrypted-tbn0.gstatic.com/images?q=tbn:ANd9GcQ1y4cX2EmnwbArY0fTyTrcWSBYdniihFm_oaDPDyhXNg&s)\n"
      ],
      "metadata": {
        "id": "zwdNav1_69WS"
      }
    },
    {
      "cell_type": "markdown",
      "source": [
        "|과목||수강년도||학기||학점|\n",
        "|:---||---:||---:||---:|\n",
        "|인공지능응용||2022||2학기||A+|\n",
        "|전자회로응용||2021||1학기||A0|\n",
        "|공학설계입문||2017||1학기||A+|\n",
        "|전기기계2||2020||2학기||A0|"
      ],
      "metadata": {
        "id": "82-BvEGd8ZU-"
      }
    },
    {
      "cell_type": "markdown",
      "source": [
        "$$f(x)=\\int_0^{10}\\frac{2x^2+4x+6}{x-2}$$"
      ],
      "metadata": {
        "id": "h8SdNI2L-K9E"
      }
    }
  ]
}