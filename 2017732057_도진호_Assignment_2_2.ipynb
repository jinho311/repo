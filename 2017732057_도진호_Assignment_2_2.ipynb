{
  "nbformat": 4,
  "nbformat_minor": 0,
  "metadata": {
    "colab": {
      "provenance": [],
      "collapsed_sections": []
    },
    "kernelspec": {
      "name": "python3",
      "display_name": "Python 3"
    },
    "language_info": {
      "name": "python"
    },
    "accelerator": "GPU"
  },
  "cells": [
    {
      "cell_type": "markdown",
      "metadata": {
        "id": "dZCjgtqsdn2j"
      },
      "source": [
        "## Problem 2\n",
        "* 프로그램 작성해보기\n",
        "  + 제시된 출력결과를 보고, 아래 미완성 프로그램을 완성\n",
        "\n"
      ]
    },
    {
      "cell_type": "code",
      "metadata": {
        "id": "7NtLnfUydyUR"
      },
      "source": [
        "name = \n",
        "age = \n",
        "grade = \n",
        "\n",
        "print('' % name)\n",
        "print('' % age)\n",
        "print('' % grade)\n"
      ],
      "execution_count": null,
      "outputs": []
    },
    {
      "cell_type": "markdown",
      "metadata": {
        "id": "PqXDUnCkfIUn"
      },
      "source": [
        "> 출력결과\n",
        "\n",
        "What is your name? (키보드입력)Kim  \n",
        "How old are you? (키보드입력)20  \n",
        "What is your grade point average? (키보드입력)4.5  \n",
        "Your name is Kim  \n",
        "Your age is 20  \n",
        "Your grade is 4.5  "
      ]
    },
    {
      "cell_type": "code",
      "source": [
        "# 이름, 나이, 학점을 코드 사용자가 직접 입력하여 데이터를 저장함, 이름은 문자형, 나이는 정수형, 학점은 실수형 \n",
        "name = input(\"What is your name?(키보드입력)\")\n",
        "age = int(input(\"How old are you? (키보드입력)\"))\n",
        "grade = float(input(\"What is your grade point average? (키보드입력)\"))\n",
        "\n",
        "# 저장했던 이름, 나이, 학점 데이터 출력\n",
        "print('Your name is name=%s' % name)\n",
        "print('Your age is age=%d' % age)\n",
        "print('Your grade is grade=%.1f' % grade)"
      ],
      "metadata": {
        "id": "TwAtSDBX7UKM",
        "colab": {
          "base_uri": "https://localhost:8080/"
        },
        "outputId": "d836e3b2-f7d2-40ff-a798-ddd8079c9b9e"
      },
      "execution_count": null,
      "outputs": [
        {
          "output_type": "stream",
          "name": "stdout",
          "text": [
            "What is your name?(키보드입력)도진호\n",
            "How old are you? (키보드입력)25\n",
            "What is your grade point average? (키보드입력)4.5\n",
            "Your name is name=도진호\n",
            "Your age is age=25\n",
            "Your grade is grade=4.5\n"
          ]
        }
      ]
    },
    {
      "cell_type": "markdown",
      "metadata": {
        "id": "pWoLA53bdr6u"
      },
      "source": [
        "## Known Bugs\n",
        "* 알려진 <u>버그</u> 없음\n",
        "\n",
        "## License\n",
        ">[MIT License](https://opensource.org/licenses/MIT)\n",
        "\n",
        "Copyright (c) 2021 Ki-Baek Lee"
      ]
    }
  ]
}