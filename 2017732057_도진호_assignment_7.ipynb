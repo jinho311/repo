{
  "nbformat": 4,
  "nbformat_minor": 0,
  "metadata": {
    "colab": {
      "provenance": [],
      "collapsed_sections": []
    },
    "kernelspec": {
      "name": "python3",
      "display_name": "Python 3"
    },
    "language_info": {
      "name": "python"
    },
    "accelerator": "GPU"
  },
  "cells": [
    {
      "cell_type": "markdown",
      "source": [
        "## 5 Assignment  \n",
        "* 행렬 방정식 풀기\n",
        "  * 다음 행렬 방정식을 'Linear Regression'을 이용해 풀어보자  \n",
        "    * 적당한 learning rate를 찾아 1000 epoch 정도 계산해본다  \n",
        "    * 'Pseudo Inverse'를 이용한 풀이와 비교해본다\n",
        "  * Hint: y = wx 꼴로 변환해본다  \n",
        "    * Ax=B에서는 x가 미지수이지만, y=wx에서는 w가 미지수임에 주의!\n",
        "    * linear model에서 b를 없애기 위해서 nn.Linear() 사용법을 검색해보자  \n",
        "$$Ax=B$$  \n",
        "$$A=\\begin{bmatrix}0&1\\\\1&1\\\\2&1\\\\3&1\\\\ \\end{bmatrix}$$  \n",
        "$$B=\\begin{bmatrix}-1\\\\0.2\\\\0.9\\\\2.1\\\\ \\end{bmatrix}$$"
      ],
      "metadata": {
        "id": "B_P6netXnuNj"
      }
    },
    {
      "cell_type": "code",
      "execution_count": null,
      "metadata": {
        "id": "BuAlCmfknkaR"
      },
      "outputs": [],
      "source": [
        "# 계산을 위해 Numpy ,Pytorch 및 Linear Regression에 쓰이는 함수 호출. nn= neural network를 뜻하고 nn.functional 은 뉴럴 네트워크의 함수, optim은 최적화 작업에 사용된다. \n",
        "\n",
        "import numpy as np\n",
        "import torch\n",
        "import torch.nn as nn\n",
        "import torch.nn.functional as func\n",
        "import torch.optim as opt"
      ]
    },
    {
      "cell_type": "code",
      "source": [
        "# 구글 드라이브에 mount하는 함수\n",
        "\n",
        "#from google.colab import drive\n",
        "#drive.mount('/content/drive')"
      ],
      "metadata": {
        "id": "Jq_0wboObbj-",
        "colab": {
          "base_uri": "https://localhost:8080/"
        },
        "outputId": "0ca8324d-6e76-457c-a0d4-8782ed0828da"
      },
      "execution_count": null,
      "outputs": [
        {
          "output_type": "stream",
          "name": "stdout",
          "text": [
            "Drive already mounted at /content/drive; to attempt to forcibly remount, call drive.mount(\"/content/drive\", force_remount=True).\n"
          ]
        }
      ]
    },
    {
      "cell_type": "code",
      "source": [
        "# Seed 고정 (Linear Regression이 잘 사용이 되었는지 확인하기 위해 (랜덤성을 줄이기 위해)시드를 고정 시킨다.)\n",
        "torch.manual_seed(1)"
      ],
      "metadata": {
        "id": "j5FZWpaCblQF",
        "colab": {
          "base_uri": "https://localhost:8080/"
        },
        "outputId": "85c39087-b3d0-47d8-fff8-440d903b0e50"
      },
      "execution_count": null,
      "outputs": [
        {
          "output_type": "execute_result",
          "data": {
            "text/plain": [
              "<torch._C.Generator at 0x7f63dae25210>"
            ]
          },
          "metadata": {},
          "execution_count": 3
        }
      ]
    },
    {
      "cell_type": "code",
      "source": [
        "# Atensor 및 Btensor Data 수동으로 입력하기 및 텐서 찍어보기\n",
        "x_train = torch.FloatTensor([ [0, 1],\n",
        "                              [1 ,1],\n",
        "                              [2, 1],\n",
        "                              [3, 1] ])\n",
        "y_train = torch.FloatTensor([[-1], \n",
        "                             [0.2], \n",
        "                             [0.9], \n",
        "                             [2.1] ])\n",
        "\n",
        "\n",
        "print(x_train)\n",
        "print(x_train.shape)\n",
        "print(y_train)\n",
        "print(y_train.shape)"
      ],
      "metadata": {
        "colab": {
          "base_uri": "https://localhost:8080/"
        },
        "id": "c43bsrKHb90X",
        "outputId": "db1bf1fc-4583-48f0-b171-c6f2644553c2"
      },
      "execution_count": null,
      "outputs": [
        {
          "output_type": "stream",
          "name": "stdout",
          "text": [
            "tensor([[0., 1.],\n",
            "        [1., 1.],\n",
            "        [2., 1.],\n",
            "        [3., 1.]])\n",
            "torch.Size([4, 2])\n",
            "tensor([[-1.0000],\n",
            "        [ 0.2000],\n",
            "        [ 0.9000],\n",
            "        [ 2.1000]])\n",
            "torch.Size([4, 1])\n"
          ]
        }
      ]
    },
    {
      "cell_type": "code",
      "source": [
        "# Model 초기화 (입력 dim, 출력 dim) (이 문제에서는 ATensor가 입력이므로 입력이 2, 출력이 BTensor이므로 1이다. 또한 bias를 false로 설정함으로써 weight 값만 계산하게 된다.)\n",
        "model = nn.Linear(2, 1,False)\n",
        "print(list(model.parameters()))\n",
        "print(model.parameters())"
      ],
      "metadata": {
        "id": "uRD-2UqycttW",
        "colab": {
          "base_uri": "https://localhost:8080/"
        },
        "outputId": "073ddfb0-7e37-4964-d201-e1a72c30f88c"
      },
      "execution_count": null,
      "outputs": [
        {
          "output_type": "stream",
          "name": "stdout",
          "text": [
            "[Parameter containing:\n",
            "tensor([[ 0.3643, -0.3121]], requires_grad=True)]\n",
            "<generator object Module.parameters at 0x7f64476e8250>\n"
          ]
        }
      ]
    },
    {
      "cell_type": "code",
      "source": [
        "# Optimizer 설정 (learning rate = 0.013으로 설정) , Stochastic gradient descent 모델을 사용하며 Multivariable function 이므로 Learning rate를 0.013으로 한 개의 입력일 때 보다 낮추어 설정한다.\n",
        "optimizer = opt.SGD(model.parameters(), lr=0.013)"
      ],
      "metadata": {
        "id": "mCnZ-UCSeOPU"
      },
      "execution_count": null,
      "outputs": []
    },
    {
      "cell_type": "code",
      "source": [
        "# 반복 - 가정 값과 실제 값의 cost를 줄이는 과정을 1000번 반복한다. 이때 100번마다 model의 parameter 값을 추출하여\n",
        "for epoch in range(1000):\n",
        "\n",
        "  # Cost 계산 / mse_loss(가정에의한값 - 참값, Mean Squared error사용)\n",
        "  y_hypo = model(x_train)\n",
        "  cost = func.mse_loss(y_hypo, y_train)\n",
        "\n",
        "  # cost를 이용해 model update \n",
        "  optimizer.zero_grad()\n",
        "  cost.backward()\n",
        "  optimizer.step()\n",
        "\n",
        "  # 100번 마다 중간결과 출력\n",
        "  if epoch % 100 == 99:\n",
        "    params = list(model.parameters())\n",
        "    w1 = params[0][0][0].item()\n",
        "    w2 = params[0][0][1].item()\n",
        "\n",
        "    print('Epoch {:4d}/{} w1: {:.3f} w2: {:.3f} Cost: {:.6f}'.format(epoch+1, 1000, w1, w2, cost.item()))\n",
        "    \n",
        "    \n",
        "\n",
        "print(y_hypo-y_train)"
      ],
      "metadata": {
        "colab": {
          "base_uri": "https://localhost:8080/"
        },
        "id": "Nx0g0efte7Pg",
        "outputId": "b32f946f-1626-4260-8229-e59dd32763b0"
      },
      "execution_count": null,
      "outputs": [
        {
          "output_type": "stream",
          "name": "stdout",
          "text": [
            "Epoch  100/1000 w1: 0.835 w2: -0.597 Cost: 0.058407\n",
            "Epoch  200/1000 w1: 0.924 w2: -0.788 Cost: 0.022218\n",
            "Epoch  300/1000 w1: 0.965 w2: -0.875 Cost: 0.014557\n",
            "Epoch  400/1000 w1: 0.984 w2: -0.916 Cost: 0.012935\n",
            "Epoch  500/1000 w1: 0.993 w2: -0.934 Cost: 0.012592\n",
            "Epoch  600/1000 w1: 0.997 w2: -0.943 Cost: 0.012520\n",
            "Epoch  700/1000 w1: 0.998 w2: -0.947 Cost: 0.012504\n",
            "Epoch  800/1000 w1: 0.999 w2: -0.948 Cost: 0.012501\n",
            "Epoch  900/1000 w1: 1.000 w2: -0.949 Cost: 0.012500\n",
            "Epoch 1000/1000 w1: 1.000 w2: -0.950 Cost: 0.012500\n",
            "tensor([[ 0.0503],\n",
            "        [-0.1498],\n",
            "        [ 0.1500],\n",
            "        [-0.0501]], grad_fn=<SubBackward0>)\n"
          ]
        }
      ]
    },
    {
      "cell_type": "code",
      "source": [
        "#저번 과제와 비교\n",
        "tsA = torch.FloatTensor([[0, 1],\n",
        "                            [1, 1],\n",
        "                            [2, 1],\n",
        "                            [3, 1]])\n",
        "tsB = torch.FloatTensor([[-1],\n",
        "                            [0.2],\n",
        "                            [0.9],\n",
        "                            [2.1]])\n",
        "\n",
        "y = torch.inverse(tsA.T.matmul(tsA))\n",
        "z = tsA.T.matmul(tsB)\n",
        "x =  y.matmul(z)\n",
        "k = torch.pinverse(tsA)\n",
        "x = k.matmul(tsB)\n",
        "print(x)"
      ],
      "metadata": {
        "colab": {
          "base_uri": "https://localhost:8080/"
        },
        "id": "xWfawqqv4XXx",
        "outputId": "f26e4ae2-7ef9-4617-b165-65d81904157c"
      },
      "execution_count": null,
      "outputs": [
        {
          "output_type": "stream",
          "name": "stdout",
          "text": [
            "tensor([[ 1.0000],\n",
            "        [-0.9500]])\n"
          ]
        }
      ]
    }
  ]
}